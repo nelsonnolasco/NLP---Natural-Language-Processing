{
  "nbformat": 4,
  "nbformat_minor": 0,
  "metadata": {
    "kernelspec": {
      "display_name": "Python 2",
      "language": "python",
      "name": "python2"
    },
    "language_info": {
      "codemirror_mode": {
        "name": "ipython",
        "version": 2
      },
      "file_extension": ".py",
      "mimetype": "text/x-python",
      "name": "python",
      "nbconvert_exporter": "python",
      "pygments_lexer": "ipython2",
      "version": "2.7.15"
    },
    "colab": {
      "name": "Atividade_2_de_NelsonNolasco.ipynb",
      "version": "0.3.2",
      "provenance": [],
      "collapsed_sections": []
    }
  },
  "cells": [
    {
      "cell_type": "markdown",
      "metadata": {
        "id": "0aYhKmMURhAj",
        "colab_type": "text"
      },
      "source": [
        "# Centro Universitário Metodista Izabela Hendrix\n",
        "## Ciências de Dados\n",
        "### Professor: Rafael Glater\n",
        "### Aluno: Nelson de Campos Nolasco\n",
        "#### - Atividade 2 - Análise de sentimentos com Bag-of-Words"
      ]
    },
    {
      "cell_type": "markdown",
      "metadata": {
        "id": "wUYnSr6UyW6v",
        "colab_type": "text"
      },
      "source": [
        "<center><h1>Análise de Sentimento usando Bag-of-Words</h1></center>\n",
        "\n",
        "Nesta atividade, usaremos o mesmo dataset de reviews de filmes do IMDB, porém agora usaremos o dataset inteiro. \n",
        "Faça o download do dataset clicando <a href=\"https://drive.google.com/open?id=1yGrXcCu90adE08IHLUYLk5cIlfEj19r0\">aqui</a>\n",
        "\n",
        "Além disso, não vamos mais representar os reviews pelas features: \n",
        "<center><pre>[nº de palavras positivas, nº de palavras negativas]</pre></center>\n",
        "\n",
        "Para saber em detalhes o formato do dataset, veja a atividade 1.\n",
        "\n",
        "Vamos representar os reviews usando o modelo de bag-of-words, que consiste em representar os reviews através de vetores esparços. Onde cada posição do vetor representa uma possível palavra e o valor dessa posição representa a contagem das palavras presentes no review.\n",
        "\n",
        "Suponhamos que os reviews abaixo sejam nosso dataset de treino:\n",
        "\n",
        "<ul>\n",
        "    <li>I like this movie.</li>\n",
        "    <li>I did not like this movie.</li>\n",
        "    <li>This movie is boring.</li>\n",
        "    <li>This movie is awesome!</li>\n",
        "</ul>\n",
        "\n",
        "Após tratar todo o texto e tokenizá-lo, descobrimos que temos apenas 9 palavras possíveis:\n",
        "<table style=\"border: 1px solid black; border-collapse: collapse;\">\n",
        "    <tr>\n",
        "    <td style=\"border: 1px solid black\">i</td>\n",
        "    <td style=\"border: 1px solid black\">like</td>\n",
        "    <td style=\"border: 1px solid black\">this</td>\n",
        "    <td style=\"border: 1px solid black\">movie</td>\n",
        "    <td style=\"border: 1px solid black\">did</td>\n",
        "    <td style=\"border: 1px solid black\">not</td>\n",
        "    <td style=\"border: 1px solid black\">is</td>\n",
        "    <td style=\"border: 1px solid black\">boring</td>\n",
        "    <td style=\"border: 1px solid black\">awesome</td>\n",
        "    </tr>\n",
        "</table>\n",
        "\n",
        "Portanto, para representar o review <i>\"I like this movie\"</i> no modelo bag-of-words, teremos o seguinte vetor:\n",
        "\n",
        "<table style=\"border: 1px solid black; border-collapse: collapse;\">\n",
        "    <tr>\n",
        "    <td style=\"border: 1px solid black\">i</td>\n",
        "    <td style=\"border: 1px solid black\">like</td>\n",
        "    <td style=\"border: 1px solid black\">this</td>\n",
        "    <td style=\"border: 1px solid black\">movie</td>\n",
        "    <td style=\"border: 1px solid black\">did</td>\n",
        "    <td style=\"border: 1px solid black\">not</td>\n",
        "    <td style=\"border: 1px solid black\">is</td>\n",
        "    <td style=\"border: 1px solid black\">boring</td>\n",
        "    <td style=\"border: 1px solid black\">awesome</td>\n",
        "    </tr>\n",
        "    <tr>\n",
        "    <td style=\"border: 1px solid black\"><center>1</center></td>\n",
        "    <td style=\"border: 1px solid black\"><center>1</center></td>\n",
        "    <td style=\"border: 1px solid black\"><center>1</center></td>\n",
        "    <td style=\"border: 1px solid black\"><center>1</center></td>\n",
        "    <td style=\"border: 1px solid black\"><center>0</center></td>\n",
        "    <td style=\"border: 1px solid black\"><center>0</center></td>\n",
        "    <td style=\"border: 1px solid black\"><center>0</center></td>\n",
        "    <td style=\"border: 1px solid black\"><center>0</center></td>\n",
        "    <td style=\"border: 1px solid black\"><center>0</center></td>\n",
        "    </tr>\n",
        "</table>\n",
        "\n",
        "Precisamos então fazer os seguintes passos:\n",
        "<ul>\n",
        "    <li>Varrer todos os reviews, limpando o texto e fazendo a tokenização;</li>\n",
        "    <li>Pegar cada palavra distinta dos reviews tokenizados para montar nosso vocabulário. O tamanho do vocabulário será o tamanho do vetor de entrada;</li>\n",
        "    <li>Converter os reviews em vetores;</li>\n",
        "    <li>Treinar um modelo classificador dando os vetores como entrada</li>\n",
        "</ul>\n",
        "    "
      ]
    },
    {
      "cell_type": "code",
      "metadata": {
        "id": "59xyxTrmyW6x",
        "colab_type": "code",
        "colab": {}
      },
      "source": [
        "#importando as bibliotecas\n",
        "import re\n",
        "import numpy as np\n",
        "import random\n",
        "import tensorflow as tf\n",
        "import pandas as pd"
      ],
      "execution_count": 0,
      "outputs": []
    },
    {
      "cell_type": "markdown",
      "metadata": {
        "id": "bXd_gioYyW61",
        "colab_type": "text"
      },
      "source": [
        "## Lendo o dataset\n",
        "\n",
        "Vamos criar uma função para carregar os reviews na memória. A função abre o arquivo de reviews e cria uma lista contendo os pares (label, review)."
      ]
    },
    {
      "cell_type": "code",
      "metadata": {
        "id": "XQyehdbUA4ut",
        "colab_type": "code",
        "outputId": "da1c8003-3a50-49ae-9d74-c235ecb18dc8",
        "colab": {
          "base_uri": "https://localhost:8080/",
          "height": 34
        }
      },
      "source": [
        "from google.colab import drive\n",
        "drive.mount('/content/gdrive')\n"
      ],
      "execution_count": 23,
      "outputs": [
        {
          "output_type": "stream",
          "text": [
            "Drive already mounted at /content/gdrive; to attempt to forcibly remount, call drive.mount(\"/content/gdrive\", force_remount=True).\n"
          ],
          "name": "stdout"
        }
      ]
    },
    {
      "cell_type": "code",
      "metadata": {
        "id": "iSrz0AjqBfRu",
        "colab_type": "code",
        "outputId": "a89dc6d8-dcf9-4274-e6e6-fcc8f7740027",
        "colab": {
          "base_uri": "https://localhost:8080/",
          "height": 50
        }
      },
      "source": [
        "%cd gdrive/My\\ Drive/"
      ],
      "execution_count": 26,
      "outputs": [
        {
          "output_type": "stream",
          "text": [
            "[Errno 2] No such file or directory: 'gdrive/My Drive/'\n",
            "/content/gdrive/My Drive\n"
          ],
          "name": "stdout"
        }
      ]
    },
    {
      "cell_type": "code",
      "metadata": {
        "id": "QCgTlT_pCMc7",
        "colab_type": "code",
        "outputId": "26f715b4-bcc6-4a2e-cf8d-485f2b9ebeb5",
        "colab": {
          "base_uri": "https://localhost:8080/",
          "height": 34
        }
      },
      "source": [
        "%cd imdb_full"
      ],
      "execution_count": 27,
      "outputs": [
        {
          "output_type": "stream",
          "text": [
            "/content/gdrive/My Drive/imdb_full\n"
          ],
          "name": "stdout"
        }
      ]
    },
    {
      "cell_type": "code",
      "metadata": {
        "id": "lZIzIgoTyW62",
        "colab_type": "code",
        "colab": {}
      },
      "source": [
        "def load_dataset(file_path):\n",
        "    all_reviews = []\n",
        "    with open(file_path) as f:\n",
        "        for line in f:\n",
        "            parts = line.strip('\\n').split('\\t')\n",
        "            label = int(parts[1])\n",
        "            review = parts[2]\n",
        "            all_reviews.append((label, review))\n",
        "    return all_reviews"
      ],
      "execution_count": 0,
      "outputs": []
    },
    {
      "cell_type": "code",
      "metadata": {
        "id": "_f5VJsBwyW65",
        "colab_type": "code",
        "outputId": "4da820c1-aeb9-49c8-a3f9-a7282f3154f8",
        "colab": {
          "base_uri": "https://localhost:8080/",
          "height": 87
        }
      },
      "source": [
        "train_reviews = load_dataset('train.txt')\n",
        "test_reviews = load_dataset('test.txt')\n",
        "\n",
        "# São de 25mil reviews de treino e 25mil de teste\n",
        "print('N de reviews de treino:', len(train_reviews))\n",
        "print('N de reviews de teste:', len(train_reviews))\n",
        "\n",
        "# vejamos um review de treino\n",
        "print(train_reviews[0])"
      ],
      "execution_count": 29,
      "outputs": [
        {
          "output_type": "stream",
          "text": [
            "('N de reviews de treino:', 25000)\n",
            "('N de reviews de teste:', 25000)\n",
            "(1, 'This is a true \"80\\'s movie\": Back then they made maybe 100 times more movies than nowadays, and that makes many of them quite interesting... It was a cultural phenomenon, that don\\'t exist anymore. Nowadays maybe the same kind of people that would have made cheap \"straight-to-video\"-movies in the eighties, are doing cheap porn. Porn seems to sell. Anyway, this is above the medium trash-movie level: It has good&fascinating story, and it\\'s quite well made I think. In one scene you can even see the microphone swinging on the upper edge of the picture. Of course there are also little cameos by Ozzy and Gene Simmons, but they don\\'t very much contribute to the film \"success\", although they are good in their small roles. The monster,heavy-singer \"Sammi Curr\", looks really terrible, especially when he\\'s singing. One of the scariest monsters I\\'ve seen in horror flicks. I may have nightmares of him next night. Not recommended for intellectual movie lovers.')\n"
          ],
          "name": "stdout"
        }
      ]
    },
    {
      "cell_type": "markdown",
      "metadata": {
        "id": "v7JDzKaLyW68",
        "colab_type": "text"
      },
      "source": [
        "## Limpando o texto\n",
        "\n",
        "Vamos definir uma função que recebe um texto de review e retorna um texto todo em letras minúsculas, sem pontuação, sem tags HTML, etc:"
      ]
    },
    {
      "cell_type": "code",
      "metadata": {
        "id": "PauOurDcyW69",
        "colab_type": "code",
        "colab": {}
      },
      "source": [
        "def clean_text(text):\n",
        "    text = text.lower()\n",
        "    text = re.sub(\"([a-z])([A-Z])\",\"\\g<1> \\g<2>\", text)\n",
        "    text = re.sub('\\&[a-z]+;', '', text) # remove \"Non-breaking space\": &nbsp;\n",
        "    text = text.replace('(', '')\n",
        "    text = text.replace(')', '')\n",
        "    text = text.replace('_', ' ')\n",
        "    text = text.replace('-', ' ')\n",
        "    text = text.replace('\\'s', '')\n",
        "    text = text.replace('\\'', '')\n",
        "    text = text.replace('!', '')\n",
        "    text = text.replace('?', '')\n",
        "    text = text.replace('.', '')\n",
        "    text = text.replace(',', '')\n",
        "\n",
        "    # remoção de \"multiple spaces\"\n",
        "    text = re.sub(' +', ' ', text).strip()\n",
        "    \n",
        "    return text"
      ],
      "execution_count": 0,
      "outputs": []
    },
    {
      "cell_type": "code",
      "metadata": {
        "id": "_tFXZe4q5HEs",
        "colab_type": "code",
        "outputId": "ced5a9dd-9a3b-4fb9-d7d3-45c0c839d239",
        "colab": {
          "base_uri": "https://localhost:8080/",
          "height": 54
        }
      },
      "source": [
        "print(train_reviews[0])"
      ],
      "execution_count": 33,
      "outputs": [
        {
          "output_type": "stream",
          "text": [
            "(1, 'This is a true \"80\\'s movie\": Back then they made maybe 100 times more movies than nowadays, and that makes many of them quite interesting... It was a cultural phenomenon, that don\\'t exist anymore. Nowadays maybe the same kind of people that would have made cheap \"straight-to-video\"-movies in the eighties, are doing cheap porn. Porn seems to sell. Anyway, this is above the medium trash-movie level: It has good&fascinating story, and it\\'s quite well made I think. In one scene you can even see the microphone swinging on the upper edge of the picture. Of course there are also little cameos by Ozzy and Gene Simmons, but they don\\'t very much contribute to the film \"success\", although they are good in their small roles. The monster,heavy-singer \"Sammi Curr\", looks really terrible, especially when he\\'s singing. One of the scariest monsters I\\'ve seen in horror flicks. I may have nightmares of him next night. Not recommended for intellectual movie lovers.')\n"
          ],
          "name": "stdout"
        }
      ]
    },
    {
      "cell_type": "markdown",
      "metadata": {
        "id": "K7R-vxlJyW6_",
        "colab_type": "text"
      },
      "source": [
        "## Criando o vocabulário\n",
        "\n",
        "Vamos definir a função que irá receber como parâmetro o caminho do arquivo onde estão os reviews. Vamos ler cada linha do arquivo, pegando apenas o review e fazendo o tratamento de texto usando a função <i>clean_text</i> definida acima. Após a limpeza do texto, quebramos em tokens e armazenamos cada token em um <span style=\"color:blue\"><i>set()</i></span> do python.\n",
        "\n",
        "O <span style=\"color:blue\"><i>set()</i></span> não permite itens repetidos, portanto é uma boa maneira de construírmos nosso vocabulário sem nos preocuparmos se determinado token (palavra) já foi inserida.\n",
        "\n",
        "Além disso, vamos contar a frequência de cada palavra e armazenar um dict essa informação em um dict, onde a chave é a palavra e o valor é sua frequência:\n",
        "<pre>counter['movie'] = 19324</pre>\n",
        "\n",
        "Faremos isso para eliminar do nosso vocabulário palavras pouco frequentes!\n",
        "\n",
        "<h4><span style=\"color: red\">Complete a função abaixo:</span></h4>"
      ]
    },
    {
      "cell_type": "code",
      "metadata": {
        "id": "BVYyf58hyW7A",
        "colab_type": "code",
        "colab": {}
      },
      "source": [
        "def prepare_vocabulary(all_reviews):\n",
        "    total = 0\n",
        "    counter = {}\n",
        "    vocab = set([]) # nao deixa repetir os tokens (??? dúvida - Nelson Nolasco)\n",
        "    for label, review in all_reviews:\n",
        "        clean_review = clean_text(review) # limpar o texto do review\n",
        "        tokens = clean_review.split()\n",
        "        for T in tokens: # lendo os tokens com \"for\"\n",
        "            vocab.add(T) \n",
        "            total = total + 1 # Contando o número de tokens lidos\n",
        "            if T in counter:\n",
        "                counter[T] = counter[T]+1 \n",
        "            else:\n",
        "              counter[T] = 1 \n",
        "    print('total de palavras lidas:', total) \n",
        "\n",
        "    return (vocab, counter)"
      ],
      "execution_count": 0,
      "outputs": []
    },
    {
      "cell_type": "code",
      "metadata": {
        "id": "9pqHNvZeyW7D",
        "colab_type": "code",
        "outputId": "ad9bd70f-cbe2-40dd-ac7d-4550341bf5ca",
        "colab": {
          "base_uri": "https://localhost:8080/",
          "height": 50
        }
      },
      "source": [
        "vocab, counter = prepare_vocabulary(train_reviews)\n",
        "\n",
        "# tamanho do vocabulário gerado\n",
        "print('Tamanho do vocab:', len(vocab))"
      ],
      "execution_count": 35,
      "outputs": [
        {
          "output_type": "stream",
          "text": [
            "('total de palavras lidas:', 5869494)\n",
            "('Tamanho do vocab:', 129631)\n"
          ],
          "name": "stdout"
        }
      ]
    },
    {
      "cell_type": "markdown",
      "metadata": {
        "id": "BdxJyYGgyW7G",
        "colab_type": "text"
      },
      "source": [
        "### Analisando o vocabulário\n",
        "\n",
        "Ao executar a função acima, lemos um total de 5.8 milhões de palavras! Gerando um vocabulário de tamanho 129.631. Esse será o tamanho dos vetores para representar os reviews. Vamos reduzir o vocabulário removendo as palavras pouco frequentes. Vamos ver uma lista de palavras muito frequentes e pouco frequentes:"
      ]
    },
    {
      "cell_type": "code",
      "metadata": {
        "id": "jcB8SNiryW7H",
        "colab_type": "code",
        "outputId": "b7638dd9-d989-47d8-fa42-ed4fdb174161",
        "colab": {
          "base_uri": "https://localhost:8080/",
          "height": 670
        }
      },
      "source": [
        "# vamos ordenar nossa contagem de frequência do maior pro menor\n",
        "counter_sorted = sorted(counter.items(), key= lambda item: item[1], reverse=True)\n",
        "\n",
        "counter_df = pd.DataFrame(counter_sorted)\n",
        "\n",
        "# as 10 mais frequentes\n",
        "display(counter_df.head(10))\n",
        "# as 10 menos frequentes\n",
        "display(counter_df.tail(10))"
      ],
      "execution_count": 37,
      "outputs": [
        {
          "output_type": "display_data",
          "data": {
            "text/plain": [
              "      0       1\n",
              "0   the  324734\n",
              "1   and  161777\n",
              "2     a  160949\n",
              "3    of  145289\n",
              "4    to  135032\n",
              "5    is  106482\n",
              "6    in   92367\n",
              "7    it   91881\n",
              "8  this   72621\n",
              "9  that   72212"
            ],
            "text/html": [
              "<div>\n",
              "<style scoped>\n",
              "    .dataframe tbody tr th:only-of-type {\n",
              "        vertical-align: middle;\n",
              "    }\n",
              "\n",
              "    .dataframe tbody tr th {\n",
              "        vertical-align: top;\n",
              "    }\n",
              "\n",
              "    .dataframe thead th {\n",
              "        text-align: right;\n",
              "    }\n",
              "</style>\n",
              "<table border=\"1\" class=\"dataframe\">\n",
              "  <thead>\n",
              "    <tr style=\"text-align: right;\">\n",
              "      <th></th>\n",
              "      <th>0</th>\n",
              "      <th>1</th>\n",
              "    </tr>\n",
              "  </thead>\n",
              "  <tbody>\n",
              "    <tr>\n",
              "      <th>0</th>\n",
              "      <td>the</td>\n",
              "      <td>324734</td>\n",
              "    </tr>\n",
              "    <tr>\n",
              "      <th>1</th>\n",
              "      <td>and</td>\n",
              "      <td>161777</td>\n",
              "    </tr>\n",
              "    <tr>\n",
              "      <th>2</th>\n",
              "      <td>a</td>\n",
              "      <td>160949</td>\n",
              "    </tr>\n",
              "    <tr>\n",
              "      <th>3</th>\n",
              "      <td>of</td>\n",
              "      <td>145289</td>\n",
              "    </tr>\n",
              "    <tr>\n",
              "      <th>4</th>\n",
              "      <td>to</td>\n",
              "      <td>135032</td>\n",
              "    </tr>\n",
              "    <tr>\n",
              "      <th>5</th>\n",
              "      <td>is</td>\n",
              "      <td>106482</td>\n",
              "    </tr>\n",
              "    <tr>\n",
              "      <th>6</th>\n",
              "      <td>in</td>\n",
              "      <td>92367</td>\n",
              "    </tr>\n",
              "    <tr>\n",
              "      <th>7</th>\n",
              "      <td>it</td>\n",
              "      <td>91881</td>\n",
              "    </tr>\n",
              "    <tr>\n",
              "      <th>8</th>\n",
              "      <td>this</td>\n",
              "      <td>72621</td>\n",
              "    </tr>\n",
              "    <tr>\n",
              "      <th>9</th>\n",
              "      <td>that</td>\n",
              "      <td>72212</td>\n",
              "    </tr>\n",
              "  </tbody>\n",
              "</table>\n",
              "</div>"
            ]
          },
          "metadata": {
            "tags": []
          }
        },
        {
          "output_type": "display_data",
          "data": {
            "text/plain": [
              "                     0  1\n",
              "129621          gencon  1\n",
              "129622           showi  1\n",
              "129623          artbox  1\n",
              "129624  suicide/murder  1\n",
              "129625         mosaics  1\n",
              "129626         helplol  1\n",
              "129627       cast/crew  1\n",
              "129628         manyand  1\n",
              "129629         tabu<br  1\n",
              "129630       footloose  1"
            ],
            "text/html": [
              "<div>\n",
              "<style scoped>\n",
              "    .dataframe tbody tr th:only-of-type {\n",
              "        vertical-align: middle;\n",
              "    }\n",
              "\n",
              "    .dataframe tbody tr th {\n",
              "        vertical-align: top;\n",
              "    }\n",
              "\n",
              "    .dataframe thead th {\n",
              "        text-align: right;\n",
              "    }\n",
              "</style>\n",
              "<table border=\"1\" class=\"dataframe\">\n",
              "  <thead>\n",
              "    <tr style=\"text-align: right;\">\n",
              "      <th></th>\n",
              "      <th>0</th>\n",
              "      <th>1</th>\n",
              "    </tr>\n",
              "  </thead>\n",
              "  <tbody>\n",
              "    <tr>\n",
              "      <th>129621</th>\n",
              "      <td>gencon</td>\n",
              "      <td>1</td>\n",
              "    </tr>\n",
              "    <tr>\n",
              "      <th>129622</th>\n",
              "      <td>showi</td>\n",
              "      <td>1</td>\n",
              "    </tr>\n",
              "    <tr>\n",
              "      <th>129623</th>\n",
              "      <td>artbox</td>\n",
              "      <td>1</td>\n",
              "    </tr>\n",
              "    <tr>\n",
              "      <th>129624</th>\n",
              "      <td>suicide/murder</td>\n",
              "      <td>1</td>\n",
              "    </tr>\n",
              "    <tr>\n",
              "      <th>129625</th>\n",
              "      <td>mosaics</td>\n",
              "      <td>1</td>\n",
              "    </tr>\n",
              "    <tr>\n",
              "      <th>129626</th>\n",
              "      <td>helplol</td>\n",
              "      <td>1</td>\n",
              "    </tr>\n",
              "    <tr>\n",
              "      <th>129627</th>\n",
              "      <td>cast/crew</td>\n",
              "      <td>1</td>\n",
              "    </tr>\n",
              "    <tr>\n",
              "      <th>129628</th>\n",
              "      <td>manyand</td>\n",
              "      <td>1</td>\n",
              "    </tr>\n",
              "    <tr>\n",
              "      <th>129629</th>\n",
              "      <td>tabu&lt;br</td>\n",
              "      <td>1</td>\n",
              "    </tr>\n",
              "    <tr>\n",
              "      <th>129630</th>\n",
              "      <td>footloose</td>\n",
              "      <td>1</td>\n",
              "    </tr>\n",
              "  </tbody>\n",
              "</table>\n",
              "</div>"
            ]
          },
          "metadata": {
            "tags": []
          }
        }
      ]
    },
    {
      "cell_type": "markdown",
      "metadata": {
        "id": "mRkNUJhGyW7K",
        "colab_type": "text"
      },
      "source": [
        "Podemos ver que as palavras mais frequentes são stop-words e as menos frequentes apareceram apenas uma vez em todo o dataset. Em ambos os casos esses tipos de palavras acrescentam pouco significado para a classificação de reviews. \n",
        "\n",
        "Vamos deixar as stop-words no nosso vocabulário por equanto, mas vamos remover as palavras que apareceram 3 vezes ou menos ao longo do texto:"
      ]
    },
    {
      "cell_type": "code",
      "metadata": {
        "id": "w75YaDqvyW7L",
        "colab_type": "code",
        "outputId": "412c9102-983c-49b3-c87d-f019c33c6e78",
        "colab": {
          "base_uri": "https://localhost:8080/",
          "height": 34
        }
      },
      "source": [
        "for word, count in counter.iteritems():\n",
        "        if count <= 3:\n",
        "            vocab.remove(word)\n",
        "            \n",
        "# vejamos agora o novo tamanho do vocab\n",
        "print('Tamanho do vocab', len(vocab))"
      ],
      "execution_count": 38,
      "outputs": [
        {
          "output_type": "stream",
          "text": [
            "('Tamanho do vocab', 38576)\n"
          ],
          "name": "stdout"
        }
      ]
    },
    {
      "cell_type": "markdown",
      "metadata": {
        "id": "klPhpa1zyW7Q",
        "colab_type": "text"
      },
      "source": [
        "Só de remover as palavras pouco frequentes, reduzimos nosso vocabulário de 129 mil para 38 mil!"
      ]
    },
    {
      "cell_type": "markdown",
      "metadata": {
        "id": "ba1WcZTbyW7R",
        "colab_type": "text"
      },
      "source": [
        "## Convertendo os reviews em vetores bag-of-words\n",
        "\n",
        "O próximo passo é criar a função que irá converter os reviews em vetores BoW.\n",
        "\n",
        "Vamos criar uma função auxiliar criará um dict que faz o mapeamento das palavras do vocabulário para a sua posição no vetor. Por exemplo, Seguindo o exemplo acima, temos um vetor de 9 posições, um para cada palavra possível:\n",
        "\n",
        "<table style=\"border: 1px solid black; border-collapse: collapse;\">\n",
        "    <tr>\n",
        "    <td style=\"border:1px solid black\">i</td>\n",
        "    <td style=\"border:1px solid black\">like</td>\n",
        "    <td style=\"border:1px solid black\">this</td>\n",
        "    <td style=\"border:1px solid black\">movie</td>\n",
        "    <td style=\"border:1px solid black\">did</td>\n",
        "    <td style=\"border:1px solid black\">not</td>\n",
        "    <td style=\"border:1px solid black\">is</td>\n",
        "    <td style=\"border:1px solid black\">boring</td>\n",
        "    <td style=\"border:1px solid black\">awesome</td>\n",
        "    </tr>\n",
        "</table>\n",
        "\n",
        "A função <span style=\"color:blue\"><i>mapWords2Indexes</i></span> irá criar um mapeamento da palavra, para sua posiçao no vetor:\n",
        "<pre>\n",
        "word2Index['i'] = 0\n",
        "word2Index['like'] = 1\n",
        "...\n",
        "word2Index['boring'] = 7\n",
        "word2Index['awesome'] = 8\n",
        "</pre>\n",
        "\n",
        "Então, quando formos converter os tokens do review <span style=\"color: green\"><i>[\"this\", \"movie\", \"is\", \"boring\"]</i></span>. A forma mais prática é:\n",
        "\n",
        "Criar um vetor de zeros, do tamanho do vocabulário:\n",
        "<pre>[0, 0, 0, 0, 0, 0, 0, 0, 0]</pre>\n",
        "\n",
        "E para cada token do review, olhamos o dict <i>word2Index</i> para saber em qual posição do vetor devemos somar 1. Ou seja, a primeira palavra <span style=\"color: green\"><i>\"this\"</i></span> está na posição 2, e assim por diante. No final teremos o vetor:\n",
        "<pre>[0, 0, 1, 1, 0, 0, 1, 1, 0]</pre>\n",
        "\n"
      ]
    },
    {
      "cell_type": "code",
      "metadata": {
        "id": "Nof029eMyW7S",
        "colab_type": "code",
        "colab": {}
      },
      "source": [
        "def mapWords2Indexes(vocabulary): # função mapWords2Indexes para criar um mapeamento da palavra, para sua posiçao no vetor\n",
        "    word2Index = {}\n",
        "    for i, word in enumerate(vocabulary):\n",
        "        word2Index[word] = i\n",
        "    \n",
        "    return word2Index"
      ],
      "execution_count": 0,
      "outputs": []
    },
    {
      "cell_type": "markdown",
      "metadata": {
        "id": "mehxIWQayW7V",
        "colab_type": "text"
      },
      "source": [
        "A função abaixo deve converter o texto de um review em sua representação vetorial. Ou seja, pegamos o texto do review, usamos a função <span style=\"color:blue\"><i>clean_text</i></span> para limpá-lo, quebramos em tokens e retornamos um vetor (do tamanho do vocabulário) contendo a contagem de cada token do review.\n",
        "\n",
        "<h4><span style=\"color: red\">Complete a função abaixo:</span></h4>"
      ]
    },
    {
      "cell_type": "code",
      "metadata": {
        "id": "rs17nX7cyW7W",
        "colab_type": "code",
        "colab": {}
      },
      "source": [
        "def convert_to_vector(review_text, word2Index):\n",
        "    vocab_size = len(word2Index)\n",
        "    vector = np.zeros(vocab_size) # criando vetor de zero\n",
        "    clean_review = clean_text(review_text) # limpando review_test\n",
        "    tokens = clean_review.split() # tokezing\n",
        "    for T in tokens:\n",
        "        pos = word2Index[T]\n",
        "        vector[pos] = vector[pos]+1  # vetor[0,0,0,0,0,0,] correndo os tokens e prever a posição pos=word2index[T] o +1 é para contar a repetição.\n",
        "    \n",
        "    return vector"
      ],
      "execution_count": 0,
      "outputs": []
    },
    {
      "cell_type": "markdown",
      "metadata": {
        "id": "imgdA1FWyW7Z",
        "colab_type": "text"
      },
      "source": [
        "Vamos executar a função auxiliar. Sua saída será usada mais adiante juntamente com a função convert_to_vector"
      ]
    },
    {
      "cell_type": "code",
      "metadata": {
        "id": "hJTZhRUTyW7Z",
        "colab_type": "code",
        "outputId": "8d6fd59f-a786-41a4-8d40-b7c0f28becb3",
        "colab": {
          "base_uri": "https://localhost:8080/",
          "height": 50
        }
      },
      "source": [
        "word2Index = mapWords2Indexes(vocab) # mapeamento \n",
        "\n",
        "# vamos fazer um teste de conversão de review:\n",
        "converted = np.asarray(convert_to_vector('I loved this movie so much ...', word2Index)) \n",
        "print(converted)\n",
        "# posições do vetor que são diferentes de zero\n",
        "print(np.where(converted > 0))"
      ],
      "execution_count": 54,
      "outputs": [
        {
          "output_type": "stream",
          "text": [
            "[0. 0. 0. ... 0. 0. 0.]\n",
            "(array([  207,  4321, 15530, 21492, 34564, 37158]),)\n"
          ],
          "name": "stdout"
        }
      ]
    },
    {
      "cell_type": "markdown",
      "metadata": {
        "id": "blCJ_8GzyW7c",
        "colab_type": "text"
      },
      "source": [
        "## Usando o Keras\n",
        "\n",
        "Iremos criar uma rede neural no keras com a seguinte estrutura:"
      ]
    },
    {
      "cell_type": "markdown",
      "metadata": {
        "id": "c6zRVySPyW7d",
        "colab_type": "text"
      },
      "source": [
        "<img src=\"data:image/png;base64,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\" />"
      ]
    },
    {
      "cell_type": "markdown",
      "metadata": {
        "id": "_ltAfEMMyW7d",
        "colab_type": "text"
      },
      "source": [
        "O Keras possui uma API que nos permite criar um modelo onde iremos adicionando as camadas sequencialmente. Começamos instanciando um modelo a partir da classe <i>Sequential</i>. Nossa primeira camada é a que irá receber os dados de entrada, portanto ela é do tipo <i>InputLayer</i> e tem o tamanho do nosso vetor BoW (que é do tamanho do vocabulário).\n",
        "\n",
        "Em seguida, adicionamos ao modelo uma camada oculta com 20 neurônios e a função sigmoid como ativação. Por fim, temos nossa cama de saída, com apenas um neurônio (também ativado pela função sigmoid) que irá nos dizer se um review é positivo ou negativo.\n",
        "\n",
        "Após definir todas as camadas do modelo, temos que definir a função de otimização (que no caso é o sgd - stochastic gradient descent), a função de perda (loss) e a métrica que usaremos para acompanhar a acurácia do modelo."
      ]
    },
    {
      "cell_type": "code",
      "metadata": {
        "id": "Byilo4JCyW7e",
        "colab_type": "code",
        "colab": {
          "base_uri": "https://localhost:8080/",
          "height": 218
        },
        "outputId": "191bf705-995f-4b20-943f-aec6a8056992"
      },
      "source": [
        "input_layer_size = len(vocab)\n",
        "\n",
        "model = tf.keras.Sequential()\n",
        "model.add(tf.keras.layers.InputLayer(input_shape=(input_layer_size,), dtype=tf.float32))\n",
        "model.add(tf.keras.layers.Dense(20, activation='sigmoid'))\n",
        "model.add(tf.keras.layers.Dense(1, activation='sigmoid'))\n",
        "\n",
        "model.summary()\n",
        "\n",
        "model.compile(optimizer='sgd', loss='binary_crossentropy', metrics=['binary_accuracy'])"
      ],
      "execution_count": 57,
      "outputs": [
        {
          "output_type": "stream",
          "text": [
            "Model: \"sequential_1\"\n",
            "_________________________________________________________________\n",
            "Layer (type)                 Output Shape              Param #   \n",
            "=================================================================\n",
            "dense_2 (Dense)              (None, 20)                771540    \n",
            "_________________________________________________________________\n",
            "dense_3 (Dense)              (None, 1)                 21        \n",
            "=================================================================\n",
            "Total params: 771,561\n",
            "Trainable params: 771,561\n",
            "Non-trainable params: 0\n",
            "_________________________________________________________________\n"
          ],
          "name": "stdout"
        }
      ]
    },
    {
      "cell_type": "markdown",
      "metadata": {
        "id": "LU7dtOQXyW7h",
        "colab_type": "text"
      },
      "source": [
        "### Lidando com a limitação de memória\n",
        "\n",
        "Temos nossos reviews de treino e de teste guardados em memória nas listas <i>train_reviews</i> e <i>test_reviews</i> respectivamente. Acontece que, se tentarmos converter todos nossos reviews de treino em vetores bag-of-words de uma vez só, não irá caber na memória. Pois a dimensão dos vetores é muito alta e temos 25mil reviews! Temos então que criar uma função geradora que irá convertendo os reviews à medida que precisarmos. Essa função recebe os reviews que estão na memória e converte a quantidade definida pelo parâmetro <i>batch_size</i> e retorna a lista de reviews convertidos."
      ]
    },
    {
      "cell_type": "code",
      "metadata": {
        "id": "wOQdGVJxyW7h",
        "colab_type": "code",
        "colab": {}
      },
      "source": [
        "def batch_generator(all_reviews, word2Index, batch_size):\n",
        "    batch_labels = []\n",
        "    batch_reviews = []\n",
        "    while True:\n",
        "        random.shuffle(all_reviews)\n",
        "        for label, review in all_reviews:\n",
        "            vector = convert_to_vector(review, word2Index)\n",
        "            batch_labels.append([label])\n",
        "            batch_reviews.append(vector)\n",
        "            if len(batch_labels) >= batch_size:\n",
        "                yield np.asarray(batch_reviews), np.asarray(batch_labels)\n",
        "                batch_labels = []\n",
        "                batch_reviews = []\n",
        "        if len(batch_labels) > 0:\n",
        "            yield np.asarray(batch_reviews), np.asarray(batch_labels)"
      ],
      "execution_count": 0,
      "outputs": []
    },
    {
      "cell_type": "markdown",
      "metadata": {
        "id": "GHha-mY2yW7k",
        "colab_type": "text"
      },
      "source": [
        "### Treinando o modelo\n",
        "\n",
        "Para treinar um modelo no Keras, basta usar o método <span style=\"color: blue\"><i>fit()</i></span> (quando o dado de treino cabe todo na memória) ou o método <span style=\"color: blue\"><i>fit_generator()</i></span> (para quando todo o dado de treino não cabe na memória).\n",
        "\n",
        "Para o método <span style=\"color: blue\"><i>fit()</i></span> passamos diretamente os reviews e os labels, dessa forma:\n",
        "<pre>model.fit(x=reviews_text, y=reviews_labels, ...)</pre>\n",
        "\n",
        "Para o método <span style=\"color: blue\"><i>fit_generator()</i></span> passamos a função geradora (que criamos acima) que irá fornecer os dados à medida que o modelo for treinando. \n",
        "<ul>\n",
        "    <li><b>epochs:</b> O número de épocas (epochs) define quantas vezes iremos passar por todo o dataset de treino.</li>\n",
        "    <li><b>steps_per_epoch:</b> Como estamos usando uma função geradora, o Keras não sabe exatamente o tamanho do nosso dado e portanto temos que informar pra ele o parâmetro steps_per_epoch, que diz quantos passos ele deve dar pra ler o dataset completo. No nosso caso temos 25mil exemplos de treino, e estamos lendo 100 exemplos por vez (batch_size), isso quer dizer, que para ler todos os dados, ele deve dar um total de 250 passos.\n",
        "</ul>"
      ]
    },
    {
      "cell_type": "code",
      "metadata": {
        "id": "JGNPlbj9yW7l",
        "colab_type": "code",
        "colab": {}
      },
      "source": [
        "history = model.fit_generator(\n",
        "    batch_generator(train_reviews, word2Index, batch_size=100), \n",
        "    epochs=5, steps_per_epoch=250, verbose=1\n",
        ")"
      ],
      "execution_count": 0,
      "outputs": []
    },
    {
      "cell_type": "markdown",
      "metadata": {
        "id": "F2I6IIueyW7o",
        "colab_type": "text"
      },
      "source": [
        "### Testando o modelo\n",
        "\n",
        "Para avaliar um modelo no keras basta usar o método <span style=\"color:blue\"><i>evaluate()</i></span> ou <span style=\"color:blue\"><i>evaluate_generator()</i></span> seguindo a mesma ideia que vimos nos métodos fit de treino."
      ]
    },
    {
      "cell_type": "code",
      "metadata": {
        "id": "NbzhwXwlyW7p",
        "colab_type": "code",
        "colab": {}
      },
      "source": [
        "results = model.evaluate_generator(batch_generator(test_reviews, word2Index, 1000), steps=25)\n",
        "for name, value in zip(model.metrics_names, results):\n",
        "  print(\"%s: %.3f\" % (name, value))"
      ],
      "execution_count": 0,
      "outputs": []
    },
    {
      "cell_type": "markdown",
      "metadata": {
        "id": "Wc7A5pKXyW7v",
        "colab_type": "text"
      },
      "source": [
        "## Usando o Tensorflow\n",
        "\n",
        "Usar o Keras é bem simples. Mas pouco flexível. Vejamos como fazer o treino e o teste usando o Tensorflow:"
      ]
    },
    {
      "cell_type": "code",
      "metadata": {
        "id": "H1JhLdM9yW7y",
        "colab_type": "code",
        "colab": {}
      },
      "source": [
        "input_layer_size = len(vocab)\n",
        "hidden_layer_size = 20\n",
        "output_layer_size = 1\n",
        "\n",
        "# declare network variables\n",
        "X = tf.placeholder(tf.float32, shape=[None, input_layer_size])\n",
        "y = tf.placeholder(tf.float32, shape=[None, output_layer_size])\n",
        "\n",
        "# neural network layers\n",
        "hidden_layer1 = tf.layers.dense(inputs=X, units=hidden_layer_size, activation=tf.nn.sigmoid)\n",
        "output_layer = tf.layers.dense(inputs=hidden_layer1, units=output_layer_size)\n",
        "\n",
        "# loss and optimization\n",
        "loss_op = tf.reduce_mean(tf.nn.sigmoid_cross_entropy_with_logits(labels=y, logits=output_layer))\n",
        "train_op = tf.train.GradientDescentOptimizer(learning_rate=0.1).minimize(loss_op)\n",
        "\n",
        "# Accuracy calculation\n",
        "correct_prediction = tf.equal(tf.round(tf.nn.sigmoid(output_layer)), y)\n",
        "accuracy = tf.reduce_mean(tf.cast(correct_prediction, tf.float32))\n",
        "\n",
        "\n",
        "# initialize network weights\n",
        "init = tf.global_variables_initializer()"
      ],
      "execution_count": 0,
      "outputs": []
    },
    {
      "cell_type": "code",
      "metadata": {
        "id": "fTJMLqq8yW77",
        "colab_type": "code",
        "colab": {}
      },
      "source": [
        "def batch_generator_tensorflow(all_reviews, word2Index, batch_size):\n",
        "    batch = [[], []] # [labels], [reviews]\n",
        "    for label, review in all_reviews:\n",
        "        vector = convert_to_vector(review, word2Index)\n",
        "        batch[0].append([label])\n",
        "        batch[1].append(vector)\n",
        "        if len(batch[0]) >= batch_size:\n",
        "            yield batch\n",
        "            batch = [[], []]\n",
        "    if len(batch[0]) > 0:\n",
        "        yield batch"
      ],
      "execution_count": 0,
      "outputs": []
    },
    {
      "cell_type": "code",
      "metadata": {
        "id": "MdINqXvkyW7-",
        "colab_type": "code",
        "colab": {}
      },
      "source": [
        "epochs = 10\n",
        "with tf.Session() as sess:\n",
        "    sess.run(init)\n",
        "    for e in xrange(epochs):\n",
        "        random.shuffle(train_reviews)\n",
        "        avg_loss = 0.0\n",
        "        num_batches = 0.0\n",
        "        avg_acc = 0.0\n",
        "        for label, review_vector in batch_generator_tensorflow(train_reviews, word2Index, batch_size=100):\n",
        "            num_batches += 1.0\n",
        "            Xi = np.array(review_vector)\n",
        "            yi = np.array(label)\n",
        "            _, l, acc = sess.run([train_op, loss_op, accuracy],feed_dict={X:Xi,y:yi})\n",
        "            avg_loss += l\n",
        "            avg_acc += acc\n",
        "\n",
        "\n",
        "        avg_loss = avg_loss / num_batches\n",
        "        avg_acc = avg_acc / num_batches\n",
        "        print \"Epoch: {0} - cost: {1}, accuracy: {2}\".format(e, avg_loss, avg_acc)\n",
        "\n",
        "\n",
        "    num_batches = 0.0\n",
        "    avg_acc = 0.0\n",
        "    for label, review_vector in batch_generator_tensorflow(test_reviews, word2Index, batch_size=1000):\n",
        "        num_batches += 1.0\n",
        "        Xi = np.array(review_vector)\n",
        "        yi = np.array(label)\n",
        "        acc = accuracy.eval(feed_dict={X:Xi, y:yi})\n",
        "        avg_acc += acc\n",
        "    avg_acc = avg_acc / num_batches\n",
        "    print 'Test accuracy:', avg_acc"
      ],
      "execution_count": 0,
      "outputs": []
    }
  ]
}